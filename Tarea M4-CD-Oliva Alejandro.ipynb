{
 "cells": [
  {
   "cell_type": "markdown",
   "metadata": {},
   "source": [
    "# Práctica\n",
    "***\n",
    "1. Desarrolle un programa en Python que mediante el uso de un ciclo ‘while’ determine si un número n (proporcionado por el usuario) puede ser expresado como 2**K donde K es entero\n",
    "***\n",
    "\n"
   ]
  },
  {
   "cell_type": "code",
   "execution_count": 1,
   "metadata": {},
   "outputs": [],
   "source": [
    "# Funcion de peticion de numero para futuro uso en las pruebas.\n",
    "def peticion_numero():\n",
    "    # Creando variable b como int() para cuando se introdusca el valor introducido por el usuario\n",
    "    # de no ser int() generará un error.\n",
    "    b = int()\n",
    "    # Try para esperar el error en caso de uno.\n",
    "    try:\n",
    "        # solicitud de numero\n",
    "        numero_introducido = int(input('Dame un número entero: '))\n",
    "        # si no fuera int() el numero dado generará un error en código. \n",
    "        b= numero_introducido\n",
    "        # de no haber error indica que es un int() entero. y este se devuelve para futuro uso. \n",
    "        return numero_introducido\n",
    "    # control de error \n",
    "    except:\n",
    "        print('Lamentablemente este no es número entero.')\n",
    "        # retorna None para poder usarlo como indicador bandera en el futuro. \n",
    "        return None"
   ]
  },
  {
   "cell_type": "code",
   "execution_count": 2,
   "metadata": {},
   "outputs": [],
   "source": [
    "# definiendo en funcion para el uso continue en pruebas. \n",
    "def funcion_exponente():\n",
    "    # Guardando el numero de la petición.\n",
    "    numero = peticion_numero()\n",
    "\n",
    "    # si el valor dado no es un numero ya no hace nada la funcion\n",
    "    if numero == None:\n",
    "        # cerrando funcion. \n",
    "        return False\n",
    "    \n",
    "    # si el valor dado sí es numero entero. \n",
    "    else:\n",
    "        # generando banderas inicializadas en 0.\n",
    "        aflag, bflag = 0, 0\n",
    "        # uso de la función while mientras que aflag sea mayor o igual a 0 ya que inicia en 0 \n",
    "        while numero - aflag >= 0:\n",
    "            # si se encuentra el aflag que devuelve el numero pedido \n",
    "            if numero == 2** aflag:\n",
    "                # imprime que se encontró. \n",
    "                print(f'Puede ser expresado como 2**{aflag}={numero}')\n",
    "                # la bandera bflag es cambiada a 1 para que no muestre la ultima peticion if. \n",
    "                bflag = 1\n",
    "                # return para que la función termine y no miestre mas codigo. \n",
    "                return\n",
    "            # cada aflag que no de con el valor entregado\n",
    "            else:\n",
    "                # se aumenta 1 para intentar nuevamente\n",
    "                aflag = aflag + 1\n",
    "        # es aquí si es que nunca se encontró el valor o que numero sea 0 \n",
    "        if numero == 0 or bflag == 0 :\n",
    "            # muestra que no existe convinación que de el numero dado. \n",
    "            print(f'No puede ser expresado como 2**k={numero}')"
   ]
  },
  {
   "cell_type": "code",
   "execution_count": 3,
   "metadata": {},
   "outputs": [
    {
     "name": "stdout",
     "output_type": "stream",
     "text": [
      "Puede ser expresado como 2**3=8\n"
     ]
    }
   ],
   "source": [
    "# prueba n = 8\n",
    "funcion_exponente()"
   ]
  },
  {
   "cell_type": "code",
   "execution_count": 4,
   "metadata": {},
   "outputs": [
    {
     "name": "stdout",
     "output_type": "stream",
     "text": [
      "Puede ser expresado como 2**5=32\n"
     ]
    }
   ],
   "source": [
    "# prueba n = 32\n",
    "funcion_exponente()"
   ]
  },
  {
   "cell_type": "code",
   "execution_count": 5,
   "metadata": {},
   "outputs": [
    {
     "name": "stdout",
     "output_type": "stream",
     "text": [
      "No puede ser expresado como 2**k=40\n"
     ]
    }
   ],
   "source": [
    "# prueba n = 40\n",
    "funcion_exponente()"
   ]
  },
  {
   "cell_type": "code",
   "execution_count": 6,
   "metadata": {},
   "outputs": [
    {
     "name": "stdout",
     "output_type": "stream",
     "text": [
      "No puede ser expresado como 2**k=0\n"
     ]
    }
   ],
   "source": [
    "# prueba n = 0 Extra option\n",
    "funcion_exponente()"
   ]
  },
  {
   "cell_type": "markdown",
   "metadata": {},
   "source": [
    "***\n",
    "2. El factorial de un número entero positivo n se define de la siguiente manera:\n",
    "n!= 1(2)(3)...n Por ejemplo: 4!=1(2)(3)(4) = 24\n",
    "\n",
    "Desarrolle un programa en Python que mediante el uso de ciclos calcule el factorial del número que indique el usuario. En caso de que el valor proporcionado sea inválido (por ejemplo, que sea negativo o fraccionado), deberá devolver un mensaje de “Error de captura”. Pruebe su código calculando los factoriales de 4, 5 y 6 respectivamente así como el de 7.5\n",
    "***"
   ]
  },
  {
   "cell_type": "code",
   "execution_count": 7,
   "metadata": {},
   "outputs": [],
   "source": [
    "# definición de la función para uso de casos. \n",
    "def funcion_factorial():\n",
    "    # llamando a la función de recoleccion de numero y guardandola en una variable\n",
    "    numero = peticion_numero()\n",
    "\n",
    "    # en caso de que el valor introducido no sea entero positivo.\n",
    "    if numero == None:\n",
    "        # muestra mensaje de error\n",
    "        print('Error de captura')\n",
    "        # termina la función si poder hacer algo más.\n",
    "        return\n",
    "    \n",
    "    # si el valor dado es numero entero positivo. \n",
    "    else:\n",
    "        # en caso de que la ecistencia de las flag es nula.\n",
    "        try:\n",
    "            # en caso de existir alguna variable cflag en otro lado del programa la borra, para evitar posible errores. \n",
    "            if cflag:\n",
    "                del( cflag )\n",
    "            # en caos de existir alguna variable dflag en otro lado del código la borra, para evitar posibles erroeres. \n",
    "            if dflag:\n",
    "                del( dflag )\n",
    "\n",
    "        # si no existian las creamos \n",
    "        except:\n",
    "            # creamos variables para proximo uso. \n",
    "            cflag ,dflag = int(), int()\n",
    "        \n",
    "        # inicializamos las variables en 1\n",
    "        cflag, dflag = 1, 1\n",
    "\n",
    "        # siendo este caso especial ya que 0! es iguala 1 y el sistema no lo reconoce se \n",
    "        # debe hacer de manera manual\n",
    "        if numero == 0:\n",
    "            # mostramos el caso especial\n",
    "            print(f'El factorial de 0 = {dflag}')\n",
    "            # return para que la función no siga corriendo.\n",
    "            return\n",
    "        \n",
    "        # por otra parte si el número introducido es diferente a 0 entero natural. \n",
    "        else:\n",
    "            # recorremos desde el valor 1 hasta el numero introducido \n",
    "            # se muestra con numero + 1 por sintaxis de python. \n",
    "            for cflag in range( 1, numero + 1 ):\n",
    "                # print( cflag ) ## funcionaba para comprovar que el código iba por buen camino. \n",
    "                # multiplicamos valor por valor hasta el numero introducido. \n",
    "                dflag = dflag * cflag\n",
    "            # mostramos el resultado.\n",
    "            print( f'El factorial de {numero} = {dflag}' )\n",
    "            # terminamos la función. \n",
    "            return "
   ]
  },
  {
   "cell_type": "code",
   "execution_count": 8,
   "metadata": {},
   "outputs": [
    {
     "name": "stdout",
     "output_type": "stream",
     "text": [
      "El factorial de 4 = 24\n"
     ]
    }
   ],
   "source": [
    "# prueba valor 4\n",
    "funcion_factorial()"
   ]
  },
  {
   "cell_type": "code",
   "execution_count": 9,
   "metadata": {},
   "outputs": [
    {
     "name": "stdout",
     "output_type": "stream",
     "text": [
      "El factorial de 5 = 120\n"
     ]
    }
   ],
   "source": [
    "# prueba valor 5\n",
    "funcion_factorial()"
   ]
  },
  {
   "cell_type": "code",
   "execution_count": 10,
   "metadata": {},
   "outputs": [
    {
     "name": "stdout",
     "output_type": "stream",
     "text": [
      "El factorial de 6 = 720\n"
     ]
    }
   ],
   "source": [
    "# prueba valor 6\n",
    "funcion_factorial()"
   ]
  },
  {
   "cell_type": "code",
   "execution_count": 11,
   "metadata": {},
   "outputs": [
    {
     "name": "stdout",
     "output_type": "stream",
     "text": [
      "Lamentablemente este no es número entero.\n",
      "Error de captura\n"
     ]
    }
   ],
   "source": [
    "# prueba valor 7.5\n",
    "funcion_factorial()"
   ]
  },
  {
   "cell_type": "markdown",
   "metadata": {},
   "source": [
    "## *Extra*\n",
    "***"
   ]
  },
  {
   "cell_type": "code",
   "execution_count": 12,
   "metadata": {},
   "outputs": [
    {
     "name": "stdout",
     "output_type": "stream",
     "text": [
      "El factorial de 0 = 1\n"
     ]
    }
   ],
   "source": [
    "# prueba valor 0, dado que 0! es uno pero el sistema no lo contempla como tal.\n",
    "funcion_factorial()"
   ]
  },
  {
   "cell_type": "markdown",
   "metadata": {},
   "source": [
    "***"
   ]
  }
 ],
 "metadata": {
  "kernelspec": {
   "display_name": "Python 3",
   "language": "python",
   "name": "python3"
  },
  "language_info": {
   "codemirror_mode": {
    "name": "ipython",
    "version": 3
   },
   "file_extension": ".py",
   "mimetype": "text/x-python",
   "name": "python",
   "nbconvert_exporter": "python",
   "pygments_lexer": "ipython3",
   "version": "3.12.4"
  }
 },
 "nbformat": 4,
 "nbformat_minor": 2
}
